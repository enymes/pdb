{
 "cells": [
  {
   "cell_type": "code",
   "execution_count": null,
   "id": "0f9964ad",
   "metadata": {},
   "outputs": [],
   "source": [
    "from Bio.PDB import PDBParser, PDBIO, Select\n",
    "\n",
    "class ProteinOnly(Select):\n",
    "    def accept_residue(self, residue):\n",
    "        hetero_flag = residue.get_id()[0].strip()\n",
    "        if hetero_flag in [\"W\", \"H\", \"L\"]:\n",
    "            return False\n",
    "        if hetero_flag == \"M\":\n",
    "            return False\n",
    "        if residue.get_resname() not in [\"ALA\", \"ARG\", \"ASN\", \"ASP\", \"CYS\", \"GLU\", \"GLN\", \"GLY\", \"HIS\", \"ILE\", \"LEU\", \"LYS\", \"MET\", \"PHE\", \"PRO\", \"SER\", \"THR\", \"TRP\", \"TYR\", \"VAL\"]:\n",
    "            return False\n",
    "        return True\n",
    "\n",
    "def remove_ligands(pdb_code, output_file):\n",
    "#      Download PDB file\n",
    "    pdbl = PDBList()\n",
    "    pdb_file = pdbl.retrieve_pdb_file(pdb_code, file_format='pdb')\n",
    "\n",
    "    # Parse the input PDB file\n",
    "    parser = PDBParser(QUIET=True)\n",
    "    structure = parser.get_structure(pdb_code, pdb_file)\n",
    "\n",
    "    # Remove hetero atoms and non-amino acid residues\n",
    "    io = PDBIO()\n",
    "    io.set_structure(structure)\n",
    "    io.save(output_file, select=ProteinOnly())\n",
    "    print(f\"Ligands removed from {pdb_code}. Output saved as {output_file}.\")\n",
    "\n",
    "# Example usage\n",
    "remove_ligands(\"7pom\", \"7pom.pdb\")"
   ]
  }
 ],
 "metadata": {
  "kernelspec": {
   "display_name": "Python 3 (ipykernel)",
   "language": "python",
   "name": "python3"
  },
  "language_info": {
   "codemirror_mode": {
    "name": "ipython",
    "version": 3
   },
   "file_extension": ".py",
   "mimetype": "text/x-python",
   "name": "python",
   "nbconvert_exporter": "python",
   "pygments_lexer": "ipython3",
   "version": "3.8.2"
  }
 },
 "nbformat": 4,
 "nbformat_minor": 5
}
